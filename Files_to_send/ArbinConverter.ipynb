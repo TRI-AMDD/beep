{
 "cells": [
  {
   "cell_type": "markdown",
   "metadata": {},
   "source": [
    "## Code that changes the new Arbin format to Beep authorized\n"
   ]
  },
  {
   "cell_type": "code",
   "execution_count": null,
   "metadata": {},
   "outputs": [],
   "source": [
    "import time\n",
    "import pandas as pd\n",
    "def Lopez2Arbin(filename,process_name):\n",
    "    dframe = pd.read_excel(filename,sheet_name=1)\n",
    "    dict = {  'Data Point': 'Data_Point',\n",
    "  'Test Time (s)': 'Test_Time',\n",
    "  'Date Time': 'DateTime',\n",
    "  'Step Time (s)': 'Step_Time',\n",
    "  'Step Index': 'Step_Index',\n",
    "  'Cycle Index': 'Cycle_Index',\n",
    "  'Current (A)': 'Current',\n",
    "  'Voltage (V)': 'Voltage',\n",
    "  'Charge Capacity (Ah)': 'Charge_Capacity',\n",
    "  'Discharge Capacity (Ah)': 'Discharge_Capacity',\n",
    "  'Charge Energy (Wh)': 'Charge_Energy',\n",
    "  'Discharge Energy (Wh)': 'Discharge_Energy',\n",
    "  'dV/dt (V/s)': 'dV/dt',\n",
    "  'Internal Resistance (Ohm)': 'Internal_Resistance',\n",
    "  'temperature': 'Temperature'}\n",
    "    dframe.rename(columns=dict,\n",
    "          inplace=True)\n",
    "    pattern = '%m/%d/%Y %H:%M:%S.%f'      \n",
    "                                \n",
    "    dframe[\"DateTime\"] = dframe[\"DateTime\"].apply(\n",
    "        lambda x: int(time.mktime(time.strptime(x, pattern)))\n",
    "        )\n",
    "    dframe.to_csv(process_name, index = False)\n",
    "    return \n"
   ]
  },
  {
   "cell_type": "markdown",
   "metadata": {},
   "source": [
    "This code changes the file's headings from Arbin to a new format that is understood by Beep, it also changes time to epoch time as the code requires."
   ]
  }
 ],
 "metadata": {
  "kernelspec": {
   "display_name": "Python 3.8.3 ('base')",
   "language": "python",
   "name": "python3"
  },
  "language_info": {
   "name": "python",
   "version": "3.8.3"
  },
  "orig_nbformat": 4,
  "vscode": {
   "interpreter": {
    "hash": "f40ec2a8176e3de74d12c51ac4a7f6ef21ddf2b8e27abfab9eda9828b2fefbe2"
   }
  }
 },
 "nbformat": 4,
 "nbformat_minor": 2
}
