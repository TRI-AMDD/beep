{
 "cells": [
  {
   "cell_type": "code",
   "execution_count": 1,
   "id": "43d3f862",
   "metadata": {},
   "outputs": [],
   "source": [
    "import pandas as pd\n",
    "from knee_identification import *"
   ]
  },
  {
   "cell_type": "code",
   "execution_count": 2,
   "id": "f6d1b5d0",
   "metadata": {},
   "outputs": [],
   "source": [
    "pd.set_option('display.max_columns', None)\n",
    "pd.set_option('display.max_rows', 40)"
   ]
  },
  {
   "cell_type": "code",
   "execution_count": 3,
   "id": "dc6b9bc5",
   "metadata": {},
   "outputs": [],
   "source": [
    "batch_degradation_path_midf = pd.read_csv('batch_degradation_path_midf_20210504.csv').set_index(['seq_num','cycle_index'])"
   ]
  },
  {
   "cell_type": "code",
   "execution_count": 4,
   "id": "0905793a",
   "metadata": {},
   "outputs": [
    {
     "name": "stderr",
     "output_type": "stream",
     "text": [
      "/home/ec2-user/anaconda3/envs/beep-env/lib/python3.7/site-packages/scipy/optimize/_numdiff.py:519: RuntimeWarning: invalid value encountered in true_divide\n",
      "  J_transposed[i] = df / dx\n"
     ]
    },
    {
     "data": {
      "text/html": [
       "<div>\n",
       "<style scoped>\n",
       "    .dataframe tbody tr th:only-of-type {\n",
       "        vertical-align: middle;\n",
       "    }\n",
       "\n",
       "    .dataframe tbody tr th {\n",
       "        vertical-align: top;\n",
       "    }\n",
       "\n",
       "    .dataframe thead th {\n",
       "        text-align: right;\n",
       "    }\n",
       "</style>\n",
       "<table border=\"1\" class=\"dataframe\">\n",
       "  <thead>\n",
       "    <tr style=\"text-align: right;\">\n",
       "      <th></th>\n",
       "      <th>a0</th>\n",
       "      <th>af</th>\n",
       "      <th>xt</th>\n",
       "      <th>yt</th>\n",
       "      <th>xf</th>\n",
       "      <th>xf_scale</th>\n",
       "      <th>slope_diff</th>\n",
       "      <th>angle_diff</th>\n",
       "      <th>error</th>\n",
       "    </tr>\n",
       "  </thead>\n",
       "  <tbody>\n",
       "    <tr>\n",
       "      <th>0</th>\n",
       "      <td>0.985607</td>\n",
       "      <td>0.786783</td>\n",
       "      <td>0.914127</td>\n",
       "      <td>0.853316</td>\n",
       "      <td>1</td>\n",
       "      <td>529.947852</td>\n",
       "      <td>0.630058</td>\n",
       "      <td>0.51545</td>\n",
       "      <td>0.000153</td>\n",
       "    </tr>\n",
       "  </tbody>\n",
       "</table>\n",
       "</div>"
      ],
      "text/plain": [
       "         a0        af        xt        yt  xf    xf_scale  slope_diff  \\\n",
       "0  0.985607  0.786783  0.914127  0.853316   1  529.947852    0.630058   \n",
       "\n",
       "   angle_diff     error  \n",
       "0     0.51545  0.000153  "
      ]
     },
     "execution_count": 4,
     "metadata": {},
     "output_type": "execute_result"
    }
   ],
   "source": [
    "cell_knee_df = get_knee_value(220,batch_degradation_path_midf)\n",
    "cell_knee_df"
   ]
  },
  {
   "cell_type": "code",
   "execution_count": null,
   "id": "5853fb74",
   "metadata": {},
   "outputs": [],
   "source": []
  }
 ],
 "metadata": {
  "kernelspec": {
   "display_name": "conda_beep-env",
   "language": "python",
   "name": "conda_beep-env"
  },
  "language_info": {
   "codemirror_mode": {
    "name": "ipython",
    "version": 3
   },
   "file_extension": ".py",
   "mimetype": "text/x-python",
   "name": "python",
   "nbconvert_exporter": "python",
   "pygments_lexer": "ipython3",
   "version": "3.7.10"
  }
 },
 "nbformat": 4,
 "nbformat_minor": 5
}
